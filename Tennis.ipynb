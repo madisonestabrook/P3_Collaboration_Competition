{
 "cells": [
  {
   "cell_type": "markdown",
   "metadata": {},
   "source": [
    "# Collaboration and Competition\n",
    "\n",
    "---\n",
    "\n",
    "You are welcome to use this coding environment to train your agent for the project.  Follow the instructions below to get started!\n",
    "\n",
    "### 1. Start the Environment\n",
    "\n",
    "Run the next code cell to install a few packages.  This line will take a few minutes to run!"
   ]
  },
  {
   "cell_type": "code",
   "execution_count": 1,
   "metadata": {},
   "outputs": [
    {
     "name": "stdout",
     "output_type": "stream",
     "text": [
      "\u001b[31mtensorflow 1.7.1 has requirement numpy>=1.13.3, but you'll have numpy 1.12.1 which is incompatible.\u001b[0m\r\n",
      "\u001b[31mipython 6.5.0 has requirement prompt-toolkit<2.0.0,>=1.0.15, but you'll have prompt-toolkit 2.0.10 which is incompatible.\u001b[0m\r\n"
     ]
    }
   ],
   "source": [
    "!pip -q install ./python"
   ]
  },
  {
   "cell_type": "markdown",
   "metadata": {},
   "source": [
    "The environment is already saved in the Workspace and can be accessed at the file path provided below. "
   ]
  },
  {
   "cell_type": "code",
   "execution_count": 2,
   "metadata": {},
   "outputs": [
    {
     "name": "stderr",
     "output_type": "stream",
     "text": [
      "INFO:unityagents:\n",
      "'Academy' started successfully!\n",
      "Unity Academy name: Academy\n",
      "        Number of Brains: 1\n",
      "        Number of External Brains : 1\n",
      "        Lesson number : 0\n",
      "        Reset Parameters :\n",
      "\t\t\n",
      "Unity brain name: TennisBrain\n",
      "        Number of Visual Observations (per agent): 0\n",
      "        Vector Observation space type: continuous\n",
      "        Vector Observation space size (per agent): 8\n",
      "        Number of stacked Vector Observation: 3\n",
      "        Vector Action space type: continuous\n",
      "        Vector Action space size (per agent): 2\n",
      "        Vector Action descriptions: , \n"
     ]
    }
   ],
   "source": [
    "from unityagents import UnityEnvironment\n",
    "import numpy as np\n",
    "\n",
    "env = UnityEnvironment(file_name=\"/data/Tennis_Linux_NoVis/Tennis\")"
   ]
  },
  {
   "cell_type": "markdown",
   "metadata": {},
   "source": [
    "Environments contain **_brains_** which are responsible for deciding the actions of their associated agents. Here we check for the first brain available, and set it as the default brain we will be controlling from Python."
   ]
  },
  {
   "cell_type": "code",
   "execution_count": 3,
   "metadata": {},
   "outputs": [],
   "source": [
    "# get the default brain\n",
    "brain_name = env.brain_names[0]\n",
    "brain = env.brains[brain_name]"
   ]
  },
  {
   "cell_type": "markdown",
   "metadata": {},
   "source": [
    "### 2. Examine the State and Action Spaces\n",
    "\n",
    "Run the code cell below to print some information about the environment."
   ]
  },
  {
   "cell_type": "code",
   "execution_count": 4,
   "metadata": {},
   "outputs": [
    {
     "name": "stdout",
     "output_type": "stream",
     "text": [
      "Number of agents: 2\n",
      "Size of each action: 2\n",
      "There are 2 agents. Each observes a state with length: 24\n",
      "The state for the first agent looks like: [ 0.          0.          0.          0.          0.          0.          0.\n",
      "  0.          0.          0.          0.          0.          0.          0.\n",
      "  0.          0.         -6.65278625 -1.5        -0.          0.\n",
      "  6.83172083  6.         -0.          0.        ]\n"
     ]
    }
   ],
   "source": [
    "# reset the environment\n",
    "env_info = env.reset(train_mode=True)[brain_name]\n",
    "\n",
    "# number of agents \n",
    "num_agents = len(env_info.agents)\n",
    "print('Number of agents:', num_agents)\n",
    "\n",
    "# size of each action\n",
    "action_size = brain.vector_action_space_size\n",
    "print('Size of each action:', action_size)\n",
    "\n",
    "# examine the state space \n",
    "states = env_info.vector_observations\n",
    "state_size = states.shape[1]\n",
    "print('There are {} agents. Each observes a state with length: {}'.format(states.shape[0], state_size))\n",
    "print('The state for the first agent looks like:', states[0])"
   ]
  },
  {
   "cell_type": "markdown",
   "metadata": {},
   "source": [
    "### 3. Take Random Actions in the Environment\n",
    "\n",
    "In the next code cell, you will learn how to use the Python API to control the agent and receive feedback from the environment.\n",
    "\n",
    "Note that **in this coding environment, you will not be able to watch the agents while they are training**, and you should set `train_mode=True` to restart the environment."
   ]
  },
  {
   "cell_type": "code",
   "execution_count": 5,
   "metadata": {},
   "outputs": [
    {
     "name": "stdout",
     "output_type": "stream",
     "text": [
      "Total score (averaged over agents) this episode: -0.004999999888241291\n",
      "Total score (averaged over agents) this episode: 0.04500000085681677\n",
      "Total score (averaged over agents) this episode: -0.004999999888241291\n",
      "Total score (averaged over agents) this episode: 0.04500000085681677\n",
      "Total score (averaged over agents) this episode: -0.004999999888241291\n"
     ]
    }
   ],
   "source": [
    "for i in range(5):                                         # play game for 5 episodes\n",
    "    env_info = env.reset(train_mode=False)[brain_name]     # reset the environment    \n",
    "    states = env_info.vector_observations                  # get the current state (for each agent)\n",
    "    scores = np.zeros(num_agents)                          # initialize the score (for each agent)\n",
    "    while True:\n",
    "        actions = np.random.randn(num_agents, action_size) # select an action (for each agent)\n",
    "        actions = np.clip(actions, -1, 1)                  # all actions between -1 and 1\n",
    "        env_info = env.step(actions)[brain_name]           # send all actions to tne environment\n",
    "        next_states = env_info.vector_observations         # get next state (for each agent)\n",
    "        rewards = env_info.rewards                         # get reward (for each agent)\n",
    "        dones = env_info.local_done                        # see if episode finished\n",
    "        scores += env_info.rewards                         # update the score (for each agent)\n",
    "        states = next_states                               # roll over states to next time step\n",
    "        if np.any(dones):                                  # exit loop if episode finished\n",
    "            break\n",
    "    print('Total score (averaged over agents) this episode: {}'.format(np.mean(scores)))"
   ]
  },
  {
   "cell_type": "markdown",
   "metadata": {},
   "source": [
    "### 4. It's Your Turn!\n",
    "\n",
    "Now it's your turn to train your own agent to solve the environment!  A few **important notes**:\n",
    "- When training the environment, set `train_mode=True`, so that the line for resetting the environment looks like the following:\n",
    "```python\n",
    "env_info = env.reset(train_mode=True)[brain_name]\n",
    "```\n",
    "- To structure your work, you're welcome to work directly in this Jupyter notebook, or you might like to start over with a new file!  You can see the list of files in the workspace by clicking on **_Jupyter_** in the top left corner of the notebook.\n",
    "- In this coding environment, you will not be able to watch the agents while they are training.  However, **_after training the agents_**, you can download the saved model weights to watch the agents on your own machine! "
   ]
  },
  {
   "cell_type": "code",
   "execution_count": 8,
   "metadata": {},
   "outputs": [
    {
     "name": "stdout",
     "output_type": "stream",
     "text": [
      "Episode 10 (1s)\tMean: -0.00\tMoving Avg: 0.00\n",
      "Episode 20 (1s)\tMean: -0.00\tMoving Avg: 0.00\n",
      "Episode 30 (1s)\tMean: -0.00\tMoving Avg: 0.00\n",
      "Episode 40 (1s)\tMean: -0.00\tMoving Avg: 0.00\n",
      "Episode 50 (1s)\tMean: -0.00\tMoving Avg: 0.00\n",
      "Episode 60 (1s)\tMean: -0.00\tMoving Avg: 0.00\n",
      "Episode 70 (1s)\tMean: -0.00\tMoving Avg: 0.00\n",
      "Episode 80 (1s)\tMean: -0.00\tMoving Avg: 0.00\n",
      "Episode 90 (1s)\tMean: -0.00\tMoving Avg: 0.00\n",
      "Episode 100 (1s)\tMean: -0.00\tMoving Avg: 0.00\n",
      "Episode 110 (1s)\tMean: -0.00\tMoving Avg: 0.00\n",
      "Episode 120 (1s)\tMean: -0.00\tMoving Avg: 0.00\n",
      "Episode 130 (1s)\tMean: -0.00\tMoving Avg: 0.00\n",
      "Episode 140 (1s)\tMean: -0.00\tMoving Avg: 0.00\n",
      "Episode 150 (1s)\tMean: -0.00\tMoving Avg: 0.00\n",
      "Episode 160 (2s)\tMean: -0.00\tMoving Avg: 0.00\n",
      "Episode 170 (1s)\tMean: -0.00\tMoving Avg: 0.00\n",
      "Episode 180 (1s)\tMean: -0.00\tMoving Avg: 0.01\n",
      "Episode 190 (1s)\tMean: -0.00\tMoving Avg: 0.01\n",
      "Episode 200 (2s)\tMean: 0.05\tMoving Avg: 0.01\n",
      "Episode 210 (1s)\tMean: -0.00\tMoving Avg: 0.01\n",
      "Episode 220 (1s)\tMean: -0.00\tMoving Avg: 0.01\n",
      "Episode 230 (2s)\tMean: 0.05\tMoving Avg: 0.02\n",
      "Episode 240 (6s)\tMean: 0.30\tMoving Avg: 0.03\n",
      "Episode 250 (2s)\tMean: 0.05\tMoving Avg: 0.03\n",
      "Episode 260 (1s)\tMean: -0.00\tMoving Avg: 0.03\n",
      "Episode 270 (1s)\tMean: -0.00\tMoving Avg: 0.03\n",
      "Episode 280 (1s)\tMean: -0.00\tMoving Avg: 0.03\n",
      "Episode 290 (1s)\tMean: -0.00\tMoving Avg: 0.03\n",
      "Episode 300 (2s)\tMean: 0.05\tMoving Avg: 0.03\n",
      "Episode 310 (1s)\tMean: -0.00\tMoving Avg: 0.03\n",
      "Episode 320 (2s)\tMean: 0.05\tMoving Avg: 0.03\n",
      "Episode 330 (1s)\tMean: -0.00\tMoving Avg: 0.03\n",
      "Episode 340 (2s)\tMean: 0.05\tMoving Avg: 0.03\n",
      "Episode 350 (3s)\tMean: 0.10\tMoving Avg: 0.03\n",
      "Episode 360 (2s)\tMean: 0.05\tMoving Avg: 0.03\n",
      "Episode 370 (2s)\tMean: 0.05\tMoving Avg: 0.04\n",
      "Episode 380 (1s)\tMean: -0.00\tMoving Avg: 0.04\n",
      "Episode 390 (1s)\tMean: -0.00\tMoving Avg: 0.04\n",
      "Episode 400 (1s)\tMean: -0.00\tMoving Avg: 0.03\n",
      "Episode 410 (1s)\tMean: -0.00\tMoving Avg: 0.03\n",
      "Episode 420 (1s)\tMean: -0.00\tMoving Avg: 0.03\n",
      "Episode 430 (1s)\tMean: -0.00\tMoving Avg: 0.03\n",
      "Episode 440 (1s)\tMean: -0.00\tMoving Avg: 0.02\n",
      "Episode 450 (1s)\tMean: -0.00\tMoving Avg: 0.02\n",
      "Episode 460 (1s)\tMean: -0.00\tMoving Avg: 0.01\n",
      "Episode 470 (1s)\tMean: -0.00\tMoving Avg: 0.00\n",
      "Episode 480 (1s)\tMean: -0.00\tMoving Avg: 0.00\n",
      "Episode 490 (1s)\tMean: -0.00\tMoving Avg: 0.00\n",
      "Episode 500 (1s)\tMean: -0.00\tMoving Avg: 0.00\n",
      "Episode 510 (1s)\tMean: -0.00\tMoving Avg: 0.00\n",
      "Episode 520 (1s)\tMean: -0.00\tMoving Avg: 0.00\n",
      "Episode 530 (1s)\tMean: -0.00\tMoving Avg: 0.00\n",
      "Episode 540 (1s)\tMean: -0.00\tMoving Avg: 0.00\n",
      "Episode 550 (2s)\tMean: 0.05\tMoving Avg: 0.00\n",
      "Episode 560 (1s)\tMean: -0.00\tMoving Avg: 0.00\n",
      "Episode 570 (3s)\tMean: 0.15\tMoving Avg: 0.01\n",
      "Episode 580 (1s)\tMean: -0.00\tMoving Avg: 0.01\n",
      "Episode 590 (2s)\tMean: 0.05\tMoving Avg: 0.02\n",
      "Episode 600 (2s)\tMean: 0.05\tMoving Avg: 0.03\n",
      "Episode 610 (2s)\tMean: 0.05\tMoving Avg: 0.05\n",
      "Episode 620 (2s)\tMean: 0.05\tMoving Avg: 0.05\n",
      "Episode 630 (1s)\tMean: -0.00\tMoving Avg: 0.06\n",
      "Episode 640 (2s)\tMean: 0.05\tMoving Avg: 0.07\n",
      "Episode 650 (2s)\tMean: 0.05\tMoving Avg: 0.08\n",
      "Episode 660 (1s)\tMean: -0.00\tMoving Avg: 0.08\n",
      "Episode 670 (2s)\tMean: 0.05\tMoving Avg: 0.09\n",
      "Episode 680 (2s)\tMean: 0.05\tMoving Avg: 0.09\n",
      "Episode 690 (2s)\tMean: 0.05\tMoving Avg: 0.09\n",
      "Episode 700 (2s)\tMean: 0.05\tMoving Avg: 0.09\n",
      "Episode 710 (2s)\tMean: 0.05\tMoving Avg: 0.08\n",
      "Episode 720 (2s)\tMean: 0.05\tMoving Avg: 0.09\n",
      "Episode 730 (2s)\tMean: 0.05\tMoving Avg: 0.09\n",
      "Episode 740 (2s)\tMean: 0.05\tMoving Avg: 0.09\n",
      "Episode 750 (3s)\tMean: 0.05\tMoving Avg: 0.10\n",
      "Episode 760 (2s)\tMean: 0.05\tMoving Avg: 0.10\n",
      "Episode 770 (2s)\tMean: 0.05\tMoving Avg: 0.10\n",
      "Episode 780 (2s)\tMean: 0.05\tMoving Avg: 0.10\n",
      "Episode 790 (2s)\tMean: 0.05\tMoving Avg: 0.10\n",
      "Episode 800 (6s)\tMean: 0.30\tMoving Avg: 0.11\n",
      "Episode 810 (2s)\tMean: 0.05\tMoving Avg: 0.12\n",
      "Episode 820 (2s)\tMean: 0.05\tMoving Avg: 0.12\n",
      "Episode 830 (2s)\tMean: 0.05\tMoving Avg: 0.13\n",
      "Episode 840 (4s)\tMean: 0.15\tMoving Avg: 0.14\n",
      "Episode 850 (2s)\tMean: 0.05\tMoving Avg: 0.15\n",
      "Episode 860 (6s)\tMean: 0.30\tMoving Avg: 0.18\n",
      "Episode 870 (4s)\tMean: 0.20\tMoving Avg: 0.20\n",
      "Episode 880 (4s)\tMean: 0.15\tMoving Avg: 0.22\n",
      "Episode 890 (5s)\tMean: 0.20\tMoving Avg: 0.24\n",
      "Episode 900 (5s)\tMean: 0.20\tMoving Avg: 0.25\n",
      "Episode 910 (2s)\tMean: 0.05\tMoving Avg: 0.25\n",
      "Episode 920 (4s)\tMean: 0.10\tMoving Avg: 0.25\n",
      "Episode 930 (2s)\tMean: 0.05\tMoving Avg: 0.25\n",
      "Episode 940 (6s)\tMean: 0.30\tMoving Avg: 0.24\n",
      "Episode 950 (2s)\tMean: 0.05\tMoving Avg: 0.23\n",
      "Episode 960 (2s)\tMean: 0.05\tMoving Avg: 0.20\n",
      "Episode 970 (2s)\tMean: 0.05\tMoving Avg: 0.19\n",
      "Episode 980 (2s)\tMean: 0.05\tMoving Avg: 0.17\n",
      "Episode 990 (2s)\tMean: 0.05\tMoving Avg: 0.16\n",
      "Episode 1000 (2s)\tMean: 0.05\tMoving Avg: 0.14\n",
      "Episode 1010 (2s)\tMean: 0.05\tMoving Avg: 0.13\n",
      "Episode 1020 (6s)\tMean: 0.25\tMoving Avg: 0.13\n",
      "Episode 1030 (3s)\tMean: 0.10\tMoving Avg: 0.13\n",
      "Episode 1040 (2s)\tMean: 0.05\tMoving Avg: 0.13\n",
      "Episode 1050 (2s)\tMean: 0.05\tMoving Avg: 0.13\n",
      "Episode 1060 (2s)\tMean: 0.05\tMoving Avg: 0.13\n",
      "Episode 1070 (2s)\tMean: 0.05\tMoving Avg: 0.13\n",
      "Episode 1080 (4s)\tMean: 0.20\tMoving Avg: 0.14\n",
      "Episode 1090 (1s)\tMean: -0.00\tMoving Avg: 0.14\n",
      "Episode 1100 (5s)\tMean: 0.15\tMoving Avg: 0.14\n",
      "Episode 1110 (7s)\tMean: 0.35\tMoving Avg: 0.16\n",
      "Episode 1120 (3s)\tMean: 0.05\tMoving Avg: 0.17\n",
      "Episode 1130 (7s)\tMean: 0.35\tMoving Avg: 0.19\n",
      "Episode 1140 (5s)\tMean: 0.25\tMoving Avg: 0.21\n",
      "Episode 1150 (4s)\tMean: 0.15\tMoving Avg: 0.21\n",
      "Episode 1160 (7s)\tMean: 0.30\tMoving Avg: 0.23\n",
      "Episode 1170 (8s)\tMean: 0.35\tMoving Avg: 0.23\n",
      "Episode 1180 (11s)\tMean: 0.50\tMoving Avg: 0.26\n",
      "Episode 1190 (3s)\tMean: 0.10\tMoving Avg: 0.29\n",
      "Episode 1200 (4s)\tMean: 0.15\tMoving Avg: 0.33\n",
      "Episode 1210 (3s)\tMean: 0.10\tMoving Avg: 0.39\n",
      "Episode 1220 (51s)\tMean: 2.60\tMoving Avg: 0.45\n",
      "Episode 1230 (19s)\tMean: 0.95\tMoving Avg: 0.48\n",
      "Episode 1238 (38s)\tAverage Score: 2.00\n",
      "Environment solved in 1138 episodes!\t Average Score: 0.51\n",
      "\n",
      "Elapsed Time: 55.26 mins.\n"
     ]
    },
    {
     "data": {
      "image/png": "[encoded data removed]",
      "text/plain": [
       "<matplotlib.figure.Figure at 0x7f4a61108b38>"
      ]
     },
     "metadata": {
      "needs_background": "light"
     },
     "output_type": "display_data"
    }
   ],
   "source": [
    "from collections import deque\n",
    "from workspace_utils import active_session\n",
    "import random\n",
    "import time\n",
    "import matplotlib.pyplot as plt\n",
    "import torch\n",
    "%matplotlib inline\n",
    "\n",
    "from ddpg_agent import Agent\n",
    "           \n",
    "agent = Agent(state_size=state_size, action_size=action_size, random_seed=9*5)\n",
    "\n",
    "## 21, 28\n",
    "    \n",
    "def ddpg(n_episodes=1500, max_t=1000, print_every=10):\n",
    "    scores_deque = deque(maxlen=100)\n",
    "    mean_list = []\n",
    "    moving_avg_list = []\n",
    "    for i_episode in range(1, n_episodes+1):\n",
    "        env_info = env.reset(train_mode=True)[brain_name]      \n",
    "        states = env_info.vector_observations\n",
    "        scores = np.zeros(num_agents)            \n",
    "        agent.reset()\n",
    "        start_time = time.time()\n",
    "        for t in range(max_t):\n",
    "            actions = agent.act(states,  add_noise=True)\n",
    "            env_info = env.step(actions)[brain_name]\n",
    "            next_states = env_info.vector_observations \n",
    "            rewards = env_info.rewards   \n",
    "            dones = env_info.local_done\n",
    "            for state, action, reward, next_state, done in zip(states, actions, rewards, next_states, dones):\n",
    "                agent.step(state, action, reward, next_state, done, t) \n",
    "            states = next_states\n",
    "            scores += rewards\n",
    "            if np.any(dones):\n",
    "                break \n",
    "        duration = time.time() - start_time\n",
    "        scores_deque.append(np.amax(scores))\n",
    "        mean_list.append(np.mean(scores))\n",
    "        moving_avg_list.append(np.mean(scores_deque))\n",
    "        print('\\rEpisode {} ({}s)\\tAverage Score: {:.2f}'.format(i_episode,round(duration),mean_list[-1]), end=\"\")\n",
    "        if i_episode % print_every == 0:\n",
    "            torch.save(agent.actor_local.state_dict(), 'checkpoint_actor.pth')\n",
    "            torch.save(agent.critic_local.state_dict(), 'checkpoint_critic.pth')\n",
    "            print('\\rEpisode {} ({}s)\\tMean: {:.2f}\\tMoving Avg: {:.2f}'.format(\n",
    "                  i_episode, round(duration), mean_list[-1], moving_avg_list[-1]))\n",
    "        \n",
    "        if moving_avg_list[-1] >= 0.5 and i_episode >= 100:\n",
    "            print('\\nEnvironment solved in {:d} episodes!\\t Average Score: {:.2f}'.format(i_episode-100, moving_avg_list[-1]))            \n",
    "            break\n",
    "            \n",
    "    return mean_list, moving_avg_list\n",
    " \n",
    "with active_session():\n",
    "    start = time.time()\n",
    "    scores, moving_avg = ddpg()\n",
    "    end = time.time()\n",
    "    elapsed = (end - start) / 60.0 # in minutes\n",
    "    print(\"\\nElapsed Time: {0:3.2f} mins.\".format(elapsed))\n",
    "    fig = plt.figure()\n",
    "    \n",
    "    ax = fig.add_subplot(111) \n",
    "    plt.plot(np.arange(len(scores)), scores, label='DDPG')\n",
    "    plt.plot(np.arange(len(moving_avg)), moving_avg, c='r', label='Moving AVG')\n",
    "    plt.ylabel('Score')\n",
    "    plt.xlabel('Episode #')\n",
    "    plt.legend(loc='upper left')\n",
    "    plt.show()"
   ]
  },
  {
   "cell_type": "markdown",
   "metadata": {},
   "source": [
    "When finished, you can close the environment."
   ]
  },
  {
   "cell_type": "code",
   "execution_count": 9,
   "metadata": {},
   "outputs": [],
   "source": [
    "env.close()"
   ]
  }
 ],
 "metadata": {
  "kernelspec": {
   "display_name": "Python 3",
   "language": "python",
   "name": "python3"
  },
  "language_info": {
   "codemirror_mode": {
    "name": "ipython",
    "version": 3
   },
   "file_extension": ".py",
   "mimetype": "text/x-python",
   "name": "python",
   "nbconvert_exporter": "python",
   "pygments_lexer": "ipython3",
   "version": "3.6.3"
  }
 },
 "nbformat": 4,
 "nbformat_minor": 2
}
